{
 "cells": [
  {
   "cell_type": "code",
   "execution_count": 1,
   "metadata": {},
   "outputs": [
    {
     "name": "stderr",
     "output_type": "stream",
     "text": [
      "Using TensorFlow backend.\n",
      "WARNING: Logging before flag parsing goes to stderr.\n",
      "W0905 05:44:45.031269 30112 deprecation_wrapper.py:119] From C:\\Users\\HP\\Anaconda3\\envs\\bern\\lib\\site-packages\\keras\\backend\\tensorflow_backend.py:74: The name tf.get_default_graph is deprecated. Please use tf.compat.v1.get_default_graph instead.\n",
      "\n",
      "W0905 05:44:45.081657 30112 deprecation_wrapper.py:119] From C:\\Users\\HP\\Anaconda3\\envs\\bern\\lib\\site-packages\\keras\\backend\\tensorflow_backend.py:517: The name tf.placeholder is deprecated. Please use tf.compat.v1.placeholder instead.\n",
      "\n",
      "W0905 05:44:45.134243 30112 deprecation_wrapper.py:119] From C:\\Users\\HP\\Anaconda3\\envs\\bern\\lib\\site-packages\\keras\\backend\\tensorflow_backend.py:4138: The name tf.random_uniform is deprecated. Please use tf.random.uniform instead.\n",
      "\n",
      "W0905 05:44:45.246733 30112 deprecation_wrapper.py:119] From C:\\Users\\HP\\Anaconda3\\envs\\bern\\lib\\site-packages\\keras\\optimizers.py:790: The name tf.train.Optimizer is deprecated. Please use tf.compat.v1.train.Optimizer instead.\n",
      "\n",
      "W0905 05:44:45.297337 30112 deprecation_wrapper.py:119] From C:\\Users\\HP\\Anaconda3\\envs\\bern\\lib\\site-packages\\keras\\backend\\tensorflow_backend.py:3376: The name tf.log is deprecated. Please use tf.math.log instead.\n",
      "\n",
      "W0905 05:44:45.311140 30112 deprecation.py:323] From C:\\Users\\HP\\Anaconda3\\envs\\bern\\lib\\site-packages\\tensorflow\\python\\ops\\nn_impl.py:180: add_dispatch_support.<locals>.wrapper (from tensorflow.python.ops.array_ops) is deprecated and will be removed in a future version.\n",
      "Instructions for updating:\n",
      "Use tf.where in 2.0, which has the same broadcast rule as np.where\n"
     ]
    },
    {
     "name": "stdout",
     "output_type": "stream",
     "text": [
      "Found 5216 images belonging to 2 classes.\n",
      "Found 624 images belonging to 2 classes.\n"
     ]
    },
    {
     "name": "stderr",
     "output_type": "stream",
     "text": [
      "W0905 05:44:47.610470 30112 deprecation_wrapper.py:119] From C:\\Users\\HP\\Anaconda3\\envs\\bern\\lib\\site-packages\\keras\\backend\\tensorflow_backend.py:986: The name tf.assign_add is deprecated. Please use tf.compat.v1.assign_add instead.\n",
      "\n"
     ]
    },
    {
     "name": "stdout",
     "output_type": "stream",
     "text": [
      "Epoch 1/1\n",
      "163/163 [==============================] - 279s 2s/step - loss: 0.6295 - acc: 0.7939 - val_loss: 3.0197 - val_acc: 0.5938\n"
     ]
    }
   ],
   "source": [
    "from keras import Sequential\n",
    "from keras.layers import Flatten, Dense\n",
    "from keras.preprocessing.image import ImageDataGenerator\n",
    "\n",
    "model = Sequential([\n",
    "    Flatten(input_shape=(100, 100,3)),\n",
    "    Dense(128, activation='relu'),\n",
    "    Dense(10, activation='relu'),\n",
    "    Dense(1, activation='sigmoid')\n",
    "    ])\n",
    "\n",
    "model.compile(optimizer='adam', \n",
    "              loss='binary_crossentropy',\n",
    "              metrics=['accuracy'])\n",
    "\n",
    "\n",
    "# Data generators: read files as needed\n",
    "\n",
    "train_datagen = ImageDataGenerator(\n",
    "        rescale=1./255,\n",
    "        shear_range=0.2,\n",
    "        zoom_range=0.2,\n",
    "        horizontal_flip=True\n",
    "        )              \n",
    "\n",
    "\n",
    "test_datagen = ImageDataGenerator(\n",
    "        rescale=1./255,\n",
    "        shear_range=0.2,\n",
    "        zoom_range=0.2,\n",
    "        horizontal_flip=True\n",
    "        )\n",
    "\n",
    "train_generator = train_datagen.flow_from_directory(\n",
    "    \"./data/chest_xray/train\",\n",
    "    target_size=(100,100),\n",
    "    batch_size=32,\n",
    "    class_mode='binary'\n",
    ")\n",
    "\n",
    "test_generator = test_datagen.flow_from_directory(\n",
    "    \"./data/chest_xray/test\",\n",
    "    target_size=(100,100),\n",
    "    batch_size=32,\n",
    "    class_mode='binary'\n",
    ")\n",
    "\n",
    "step_size_train=train_generator.n//train_generator.batch_size\n",
    "\n",
    "## Train the model\n",
    "model.fit_generator(\n",
    "    train_generator, \n",
    "    steps_per_epoch = step_size_train,\n",
    "    validation_data = test_generator, \n",
    "    validation_steps = 1\n",
    ")\n",
    "\n",
    "\n",
    "## Final model\n",
    "model.save_weights(\"./models/simple_cnn.h5\")\n",
    "\n",
    "\n"
   ]
  },
  {
   "cell_type": "code",
   "execution_count": null,
   "metadata": {},
   "outputs": [],
   "source": []
  }
 ],
 "metadata": {
  "kernelspec": {
   "display_name": "Python 3",
   "language": "python",
   "name": "python3"
  },
  "language_info": {
   "codemirror_mode": {
    "name": "ipython",
    "version": 3
   },
   "file_extension": ".py",
   "mimetype": "text/x-python",
   "name": "python",
   "nbconvert_exporter": "python",
   "pygments_lexer": "ipython3",
   "version": "3.7.4"
  }
 },
 "nbformat": 4,
 "nbformat_minor": 2
}
