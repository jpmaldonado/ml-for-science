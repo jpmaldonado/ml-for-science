{
 "cells": [
  {
   "cell_type": "code",
   "execution_count": 1,
   "metadata": {},
   "outputs": [],
   "source": [
    "import numpy as np\n",
    "import matplotlib.pyplot as plt\n",
    "%matplotlib inline"
   ]
  },
  {
   "cell_type": "code",
   "execution_count": 2,
   "metadata": {},
   "outputs": [],
   "source": [
    "from sklearn.datasets import load_breast_cancer\n",
    "X, y = load_breast_cancer(return_X_y=True)"
   ]
  },
  {
   "cell_type": "code",
   "execution_count": 3,
   "metadata": {},
   "outputs": [
    {
     "data": {
      "text/plain": [
       "(569, 30)"
      ]
     },
     "execution_count": 3,
     "metadata": {},
     "output_type": "execute_result"
    }
   ],
   "source": [
    "X.shape"
   ]
  },
  {
   "cell_type": "code",
   "execution_count": 6,
   "metadata": {},
   "outputs": [],
   "source": [
    "from sklearn.model_selection import train_test_split\n",
    "X_train, X_test, y_train, y_test = train_test_split(X,y, random_state=123, train_size=0.8)"
   ]
  },
  {
   "cell_type": "code",
   "execution_count": 9,
   "metadata": {},
   "outputs": [],
   "source": [
    "from sklearn.linear_model import LogisticRegression\n",
    "from sklearn.preprocessing import Normalizer"
   ]
  },
  {
   "cell_type": "code",
   "execution_count": 10,
   "metadata": {},
   "outputs": [],
   "source": [
    "from sklearn.pipeline import make_pipeline"
   ]
  },
  {
   "cell_type": "code",
   "execution_count": 13,
   "metadata": {},
   "outputs": [],
   "source": [
    "pipe = make_pipeline(Normalizer(), LogisticRegression(solver='lbfgs'))"
   ]
  },
  {
   "cell_type": "code",
   "execution_count": 14,
   "metadata": {},
   "outputs": [
    {
     "data": {
      "text/plain": [
       "Pipeline(memory=None,\n",
       "         steps=[('normalizer', Normalizer(copy=True, norm='l2')),\n",
       "                ('logisticregression',\n",
       "                 LogisticRegression(C=1.0, class_weight=None, dual=False,\n",
       "                                    fit_intercept=True, intercept_scaling=1,\n",
       "                                    l1_ratio=None, max_iter=100,\n",
       "                                    multi_class='warn', n_jobs=None,\n",
       "                                    penalty='l2', random_state=None,\n",
       "                                    solver='lbfgs', tol=0.0001, verbose=0,\n",
       "                                    warm_start=False))],\n",
       "         verbose=False)"
      ]
     },
     "execution_count": 14,
     "metadata": {},
     "output_type": "execute_result"
    }
   ],
   "source": [
    "pipe.fit(X_train, y_train)"
   ]
  },
  {
   "cell_type": "code",
   "execution_count": 15,
   "metadata": {},
   "outputs": [],
   "source": [
    "y_pred = pipe.predict(X_test)"
   ]
  },
  {
   "cell_type": "code",
   "execution_count": 16,
   "metadata": {},
   "outputs": [
    {
     "data": {
      "text/plain": [
       "array([1, 1, 1, 1, 0, 1, 1, 1, 1, 1, 1, 0, 1, 1, 1, 1, 1, 1, 1, 1, 1, 0,\n",
       "       1, 1, 1, 1, 1, 1, 0, 1, 1, 1, 1, 1, 1, 1, 1, 1, 1, 1, 1, 1, 1, 1,\n",
       "       0, 1, 1, 1, 1, 0, 1, 0, 1, 1, 1, 1, 1, 0, 0, 1, 1, 1, 1, 1, 1, 1,\n",
       "       1, 1, 1, 1, 1, 1, 1, 1, 0, 1, 1, 0, 1, 1, 1, 0, 0, 1, 1, 1, 1, 1,\n",
       "       0, 1, 0, 1, 1, 1, 1, 1, 1, 1, 1, 1, 1, 1, 1, 1, 1, 1, 1, 1, 1, 1,\n",
       "       1, 1, 1, 0])"
      ]
     },
     "execution_count": 16,
     "metadata": {},
     "output_type": "execute_result"
    }
   ],
   "source": [
    "y_pred"
   ]
  },
  {
   "cell_type": "code",
   "execution_count": 17,
   "metadata": {},
   "outputs": [
    {
     "data": {
      "text/plain": [
       "array([1, 1, 0, 1, 0, 1, 1, 0, 1, 1, 1, 0, 0, 1, 0, 1, 1, 1, 1, 1, 0, 0,\n",
       "       1, 1, 1, 0, 0, 1, 0, 1, 0, 1, 1, 1, 0, 1, 1, 1, 1, 0, 0, 1, 0, 1,\n",
       "       0, 1, 0, 0, 0, 0, 0, 0, 1, 1, 1, 0, 1, 0, 0, 1, 0, 1, 1, 1, 1, 0,\n",
       "       1, 1, 1, 0, 1, 1, 0, 1, 0, 1, 1, 0, 0, 0, 1, 0, 0, 1, 1, 1, 0, 1,\n",
       "       0, 1, 0, 1, 1, 0, 1, 1, 1, 1, 1, 1, 1, 1, 1, 1, 1, 1, 1, 1, 1, 1,\n",
       "       1, 1, 1, 0])"
      ]
     },
     "execution_count": 17,
     "metadata": {},
     "output_type": "execute_result"
    }
   ],
   "source": [
    "y_test"
   ]
  },
  {
   "cell_type": "code",
   "execution_count": 19,
   "metadata": {},
   "outputs": [],
   "source": [
    "from sklearn.metrics import confusion_matrix"
   ]
  },
  {
   "cell_type": "code",
   "execution_count": 20,
   "metadata": {},
   "outputs": [
    {
     "data": {
      "text/plain": [
       "array([[16, 25],\n",
       "       [ 0, 73]], dtype=int64)"
      ]
     },
     "execution_count": 20,
     "metadata": {},
     "output_type": "execute_result"
    }
   ],
   "source": [
    "confusion_matrix(y_test, y_pred)"
   ]
  },
  {
   "cell_type": "code",
   "execution_count": 21,
   "metadata": {},
   "outputs": [
    {
     "data": {
      "text/plain": [
       "16"
      ]
     },
     "execution_count": 21,
     "metadata": {},
     "output_type": "execute_result"
    }
   ],
   "source": [
    "sum((y_test==0) & (y_pred==0))"
   ]
  },
  {
   "cell_type": "code",
   "execution_count": 22,
   "metadata": {},
   "outputs": [
    {
     "data": {
      "text/plain": [
       "25"
      ]
     },
     "execution_count": 22,
     "metadata": {},
     "output_type": "execute_result"
    }
   ],
   "source": [
    "sum((y_test==0) & (y_pred==1))"
   ]
  },
  {
   "cell_type": "code",
   "execution_count": 26,
   "metadata": {},
   "outputs": [
    {
     "data": {
      "text/plain": [
       "0.7807017543859649"
      ]
     },
     "execution_count": 26,
     "metadata": {},
     "output_type": "execute_result"
    }
   ],
   "source": [
    "sum(y_pred==y_test)/len(y_pred)"
   ]
  },
  {
   "cell_type": "code",
   "execution_count": 28,
   "metadata": {},
   "outputs": [
    {
     "data": {
      "text/plain": [
       "0.7807017543859649"
      ]
     },
     "execution_count": 28,
     "metadata": {},
     "output_type": "execute_result"
    }
   ],
   "source": [
    "(73+16)/(16+73+25)"
   ]
  },
  {
   "cell_type": "code",
   "execution_count": 29,
   "metadata": {},
   "outputs": [
    {
     "data": {
      "text/plain": [
       "0.7807017543859649"
      ]
     },
     "execution_count": 29,
     "metadata": {},
     "output_type": "execute_result"
    }
   ],
   "source": [
    "pipe.score(X_test, y_test)"
   ]
  },
  {
   "cell_type": "code",
   "execution_count": 34,
   "metadata": {},
   "outputs": [
    {
     "data": {
      "text/plain": [
       "LogisticRegression(C=1.0, class_weight=None, dual=False, fit_intercept=True,\n",
       "                   intercept_scaling=1, l1_ratio=None, max_iter=100,\n",
       "                   multi_class='warn', n_jobs=None, penalty='l2',\n",
       "                   random_state=None, solver='lbfgs', tol=0.0001, verbose=0,\n",
       "                   warm_start=False)"
      ]
     },
     "execution_count": 34,
     "metadata": {},
     "output_type": "execute_result"
    }
   ],
   "source": [
    "pipe.named_steps['logisticregression']"
   ]
  },
  {
   "cell_type": "code",
   "execution_count": 38,
   "metadata": {},
   "outputs": [],
   "source": [
    "y_probs = pipe.predict_proba(X_test)"
   ]
  },
  {
   "cell_type": "markdown",
   "metadata": {},
   "source": [
    "## ROC Curve"
   ]
  },
  {
   "cell_type": "code",
   "execution_count": 39,
   "metadata": {},
   "outputs": [],
   "source": [
    "# False positive rate vs true positive rate"
   ]
  },
  {
   "cell_type": "code",
   "execution_count": 41,
   "metadata": {},
   "outputs": [
    {
     "data": {
      "text/plain": [
       "array([[0.33254923, 0.66745077],\n",
       "       [0.28678547, 0.71321453],\n",
       "       [0.41809667, 0.58190333],\n",
       "       [0.29904554, 0.70095446],\n",
       "       [0.52816867, 0.47183133],\n",
       "       [0.36767288, 0.63232712],\n",
       "       [0.31875185, 0.68124815],\n",
       "       [0.36014848, 0.63985152],\n",
       "       [0.39724902, 0.60275098],\n",
       "       [0.34576082, 0.65423918],\n",
       "       [0.27352837, 0.72647163],\n",
       "       [0.51311308, 0.48688692],\n",
       "       [0.45820011, 0.54179989],\n",
       "       [0.29472022, 0.70527978],\n",
       "       [0.33480502, 0.66519498],\n",
       "       [0.41070942, 0.58929058],\n",
       "       [0.30558996, 0.69441004],\n",
       "       [0.291554  , 0.708446  ],\n",
       "       [0.29217994, 0.70782006],\n",
       "       [0.36280783, 0.63719217],\n",
       "       [0.49156393, 0.50843607],\n",
       "       [0.59542045, 0.40457955],\n",
       "       [0.35289027, 0.64710973],\n",
       "       [0.26746275, 0.73253725],\n",
       "       [0.36343089, 0.63656911],\n",
       "       [0.4728594 , 0.5271406 ],\n",
       "       [0.48642875, 0.51357125],\n",
       "       [0.27481006, 0.72518994],\n",
       "       [0.51727101, 0.48272899],\n",
       "       [0.28008646, 0.71991354],\n",
       "       [0.49346287, 0.50653713],\n",
       "       [0.23530879, 0.76469121],\n",
       "       [0.29568362, 0.70431638],\n",
       "       [0.36385487, 0.63614513],\n",
       "       [0.4965325 , 0.5034675 ],\n",
       "       [0.28580591, 0.71419409],\n",
       "       [0.40609882, 0.59390118],\n",
       "       [0.30763645, 0.69236355],\n",
       "       [0.30605598, 0.69394402],\n",
       "       [0.46329304, 0.53670696],\n",
       "       [0.47616425, 0.52383575],\n",
       "       [0.34997058, 0.65002942],\n",
       "       [0.47318902, 0.52681098],\n",
       "       [0.42646623, 0.57353377],\n",
       "       [0.58086725, 0.41913275],\n",
       "       [0.4044797 , 0.5955203 ],\n",
       "       [0.45654943, 0.54345057],\n",
       "       [0.3106216 , 0.6893784 ],\n",
       "       [0.304356  , 0.695644  ],\n",
       "       [0.54885324, 0.45114676],\n",
       "       [0.41822427, 0.58177573],\n",
       "       [0.73477814, 0.26522186],\n",
       "       [0.36607347, 0.63392653],\n",
       "       [0.36504845, 0.63495155],\n",
       "       [0.30527052, 0.69472948],\n",
       "       [0.33772387, 0.66227613],\n",
       "       [0.32571722, 0.67428278],\n",
       "       [0.52018539, 0.47981461],\n",
       "       [0.66834037, 0.33165963],\n",
       "       [0.32919247, 0.67080753],\n",
       "       [0.41980293, 0.58019707],\n",
       "       [0.27664153, 0.72335847],\n",
       "       [0.36408524, 0.63591476],\n",
       "       [0.27541746, 0.72458254],\n",
       "       [0.35899099, 0.64100901],\n",
       "       [0.48664106, 0.51335894],\n",
       "       [0.26062795, 0.73937205],\n",
       "       [0.25957172, 0.74042828],\n",
       "       [0.23547452, 0.76452548],\n",
       "       [0.36134265, 0.63865735],\n",
       "       [0.23247188, 0.76752812],\n",
       "       [0.29182929, 0.70817071],\n",
       "       [0.44522835, 0.55477165],\n",
       "       [0.32395738, 0.67604262],\n",
       "       [0.57723411, 0.42276589],\n",
       "       [0.30690793, 0.69309207],\n",
       "       [0.34351755, 0.65648245],\n",
       "       [0.59112307, 0.40887693],\n",
       "       [0.45411878, 0.54588122],\n",
       "       [0.4350448 , 0.5649552 ],\n",
       "       [0.36950817, 0.63049183],\n",
       "       [0.53897215, 0.46102785],\n",
       "       [0.56049387, 0.43950613],\n",
       "       [0.34239879, 0.65760121],\n",
       "       [0.3182467 , 0.6817533 ],\n",
       "       [0.29298827, 0.70701173],\n",
       "       [0.45182405, 0.54817595],\n",
       "       [0.29743483, 0.70256517],\n",
       "       [0.52895952, 0.47104048],\n",
       "       [0.31015534, 0.68984466],\n",
       "       [0.552043  , 0.447957  ],\n",
       "       [0.29940066, 0.70059934],\n",
       "       [0.30051472, 0.69948528],\n",
       "       [0.37958036, 0.62041964],\n",
       "       [0.29677622, 0.70322378],\n",
       "       [0.26580916, 0.73419084],\n",
       "       [0.35982474, 0.64017526],\n",
       "       [0.31706172, 0.68293828],\n",
       "       [0.32303505, 0.67696495],\n",
       "       [0.26897368, 0.73102632],\n",
       "       [0.28883423, 0.71116577],\n",
       "       [0.22247079, 0.77752921],\n",
       "       [0.32079373, 0.67920627],\n",
       "       [0.29028089, 0.70971911],\n",
       "       [0.3671487 , 0.6328513 ],\n",
       "       [0.26258479, 0.73741521],\n",
       "       [0.254251  , 0.745749  ],\n",
       "       [0.27150039, 0.72849961],\n",
       "       [0.19079771, 0.80920229],\n",
       "       [0.28339659, 0.71660341],\n",
       "       [0.20362655, 0.79637345],\n",
       "       [0.27679717, 0.72320283],\n",
       "       [0.34640961, 0.65359039],\n",
       "       [0.64332862, 0.35667138]])"
      ]
     },
     "execution_count": 41,
     "metadata": {},
     "output_type": "execute_result"
    }
   ],
   "source": [
    "y_probs"
   ]
  },
  {
   "cell_type": "code",
   "execution_count": 43,
   "metadata": {},
   "outputs": [],
   "source": [
    "y_probs_pos = y_probs[:,1] "
   ]
  },
  {
   "cell_type": "code",
   "execution_count": 44,
   "metadata": {},
   "outputs": [],
   "source": [
    "from sklearn.metrics import roc_curve\n",
    "fpr, tpr, thresholds = roc_curve(y_test, y_probs_pos)"
   ]
  },
  {
   "cell_type": "code",
   "execution_count": 46,
   "metadata": {},
   "outputs": [
    {
     "data": {
      "text/plain": [
       "Text(0, 0.5, 'True positive rate')"
      ]
     },
     "execution_count": 46,
     "metadata": {},
     "output_type": "execute_result"
    },
    {
     "data": {
      "image/png": "[encoded data removed]",
      "text/plain": [
       "<Figure size 432x288 with 1 Axes>"
      ]
     },
     "metadata": {
      "needs_background": "light"
     },
     "output_type": "display_data"
    }
   ],
   "source": [
    "plt.plot(fpr, tpr)\n",
    "plt.xlabel('False positive rate')\n",
    "plt.ylabel('True positive rate')"
   ]
  },
  {
   "cell_type": "code",
   "execution_count": null,
   "metadata": {},
   "outputs": [],
   "source": []
  }
 ],
 "metadata": {
  "kernelspec": {
   "display_name": "Python 3",
   "language": "python",
   "name": "python3"
  },
  "language_info": {
   "codemirror_mode": {
    "name": "ipython",
    "version": 3
   },
   "file_extension": ".py",
   "mimetype": "text/x-python",
   "name": "python",
   "nbconvert_exporter": "python",
   "pygments_lexer": "ipython3",
   "version": "3.7.4"
  }
 },
 "nbformat": 4,
 "nbformat_minor": 2
}
